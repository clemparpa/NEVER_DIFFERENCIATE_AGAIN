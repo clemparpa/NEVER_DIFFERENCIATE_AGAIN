{
 "cells": [
  {
   "cell_type": "markdown",
   "metadata": {},
   "source": [
    "# Auto Différenciation\n",
    "\n",
    "Voici une implementation simpliste d'un systeme d'auto-differentation (calcul automatique de derivees). l'API est largement inspirée du framework\n",
    "pytorch.\n",
    "\n",
    "Les algorithmes d'autodifférentiation ne repose que sur une règle: **La dérivation de fonction composée**.\n",
    "Pour pouvoir automatiquement calculer les dérivées de n'importe quelle fonction, on va définir des fonctions élémentaires (l'addition, la multiplication, le log) et leur dérivées puis appliquer la formule de composition des dérivées avec ces fonctions élémentaires. \n",
    "\n",
    "Les éléments principaux sont du framework sont: \n",
    "\n",
    "- Les objets `Tensor` qui représentent les données dans le framework\n",
    "- Les classes `Function` qui définissent les différentes opérations élémentaires applicables aux `Tensors`\n",
    "\n"
   ]
  },
  {
   "cell_type": "markdown",
   "metadata": {},
   "source": [
    "## Classe Tensor\n",
    "\n",
    "La classe `Tensor` est la pierre angulaire du système d'autodifférenciation. Elle instancie des tenseurs, des structures de données permettant aussi de stocker des gradients. \n"
   ]
  },
  {
   "cell_type": "code",
   "execution_count": 693,
   "metadata": {},
   "outputs": [],
   "source": [
    "from typing import Any, Callable, Sequence\n",
    "from numpy import array, ndarray\n",
    "from numpy.typing import  NDArray\n",
    "\n",
    "type BackwardFunction =  Callable[[Sequence['Tensor'], 'Tensor'], list['Tensor']]\n",
    "type TensorLike = Tensor | list[Any] | float | int | NDArray\n",
    "\n",
    "class Tensor:\n",
    "    \"\"\" Class Tensor pour mettre qui est la brique élémentaire du système d'autodiff\"\"\"\n",
    "\n",
    "    @staticmethod\n",
    "    def _broadcast_tensor(value: TensorLike) -> TensorLike:\n",
    "        if isinstance(value, list):\n",
    "            return array(value, dtype=float)\n",
    "        if isinstance(value, int):\n",
    "            return float(value)\n",
    "        if isinstance(value, ndarray):\n",
    "            return value.astype(float)\n",
    "        return value\n",
    "    \n",
    "    def __len__(self):\n",
    "        if isinstance(self.value, ndarray):\n",
    "            return len(self.value)\n",
    "        return 1\n",
    "\n",
    "    def __init__(self, value: TensorLike, inputs: Sequence['Tensor'] = [], gradfn: BackwardFunction | None = None):\n",
    "        \"\"\" initialisation d'un Tensor.\n",
    "        \n",
    "            args:\n",
    "                - value(TensorLike): \n",
    "                    valeur du tenseur. accepte les memes entrées qu'un array numpy\n",
    "                - inputs(Tensor[] = []):\n",
    "                    les tenseurs dépendant de celui-ci pour l'autodiff. Il ne devraient pas \n",
    "                    être renseignées manuellement.\n",
    "                - gradfn(BackwardFunction | None = None)\n",
    "                    la dérivée de ce tenseur. Elle ne devrait pas être renseignée manuellement.\n",
    "            \"\"\"\n",
    "        self.value = self._broadcast_tensor(value)\n",
    "        self._inputs = inputs\n",
    "        self._gradfn = gradfn\n",
    "        self.grad: Tensor | None = None\n",
    "\n",
    "    def __repr__(self):\n",
    "        return f\"tensor(value={self.value})\"\n",
    "\n",
    "\n",
    "    def backward(self, grad_output: 'Tensor | None' = None):\n",
    "        \"\"\" permet de calculer les gradients des entrées de ce tenseur.\n",
    "            Cette fonction ne doit être appelée qu'une fois depuis le tenseur parent.\n",
    "            (ie: le tenseur qui contient le résultat de la fonction a deriver).\n",
    "        \"\"\"\n",
    "        if grad_output is None:\n",
    "            grad_output = self.__class__(1.)\n",
    "\n",
    "        if self._gradfn is None:\n",
    "            raise ValueError('gradient not provided. Run Forward before')           \n",
    "\n",
    "        output = self._gradfn(self._inputs, grad_output)\n",
    "\n",
    "        for index, input_ in enumerate(self._inputs): \n",
    "            if input_._gradfn:\n",
    "                input_.backward(output[index])\n",
    "\n",
    "    def zero_grad(self):\n",
    "        self.grad = Tensor(0)\n"
   ]
  },
  {
   "cell_type": "markdown",
   "metadata": {},
   "source": [
    "## Fonction pour Créer des Tenseurs\n",
    "\n",
    "On définit aussi un wrapper sur le constructeur de la clase `Tensor` pour simplifier leur instanciation\n",
    "Si `value` est déjà une instance de `Tensor`, la fonction renvoie simplement cette instance. Sinon, elle crée un nouveau tenseur en utilisant les paramètres fournis.\n",
    "\n",
    "Cela permet une utilisation plus fluide et concise pour créer des tenseurs dans le système d'autodifférenciation."
   ]
  },
  {
   "cell_type": "code",
   "execution_count": 694,
   "metadata": {},
   "outputs": [],
   "source": [
    "def tensor(value: TensorLike, inputs: Sequence['Tensor'] = [], gradfn: BackwardFunction | None = None):\n",
    "    if isinstance(value, Tensor):\n",
    "        return value\n",
    "    return Tensor(value=value, inputs=inputs, gradfn=gradfn)"
   ]
  },
  {
   "cell_type": "markdown",
   "metadata": {},
   "source": [
    "# Classe MetaFunction et Classe Abstraite Function\n",
    "\n",
    "La classe `MetaFunction` est une métaclasse qui simplifie permet d'appeler la méthode static `forward` des classes `Function` en les appelant, au lieu de les instancier. Cela permet d'économiser quelques lignes de code.\n",
    "\n",
    "La classe `Function` est une classe abstraite qui définit les opérations élémentaires nécessaires à la backpropagation dans le système d'autodifférenciation. Elle permet de créer des opérations personnalisées en héritant de cette classe.\n",
    "\n",
    "Voici les points clés de la classe `Function` :\n",
    "\n",
    "- Les méthodes `_forward` et `_backward` doivent être surchargées dans les sous-classes pour définir respectivement le calcul d'une opération et son gradient.\n",
    "\n",
    "- Les méthodes `forward` et `backward` fournissent un wrapper autour des méthodes précédemment citées. La méthode `forward` prend en charge le calcul de l'opération sur les entrées et crée un nouveau tenseur avec la valeur résultante. La méthode `backward` calcule les gradients et les propage aux tenseurs d'entrée.\n",
    "\n",
    "En utilisant ces deux classes, on peut définir facilement de nouvelles opérations pour l'autodifférenciation dans le système."
   ]
  },
  {
   "cell_type": "code",
   "execution_count": 695,
   "metadata": {},
   "outputs": [],
   "source": [
    "class MetaFunction(type):\n",
    "    \"\"\" Metaclass purement cosmetique, pour économiser quelques lignes de code\n",
    "    en appelant directement les Function (voir ci-dessous) sur les tenseurs\n",
    "    \"\"\"\n",
    "    def __call__(cls, *args, **kwargs):\n",
    "        return cls.forward(*args, **kwargs) #type: ignore\n",
    "\n",
    "\n",
    "class Function(metaclass=MetaFunction): \n",
    "    \"\"\" Class Abstraite Function\n",
    "    \n",
    "        Celles-ci permettent de définir les opérations élémentaires nécessaires à la \n",
    "        backpropagation\n",
    "\n",
    "        Les methods _forward et _backward doivent être override pour definir respectivement\n",
    "        le calcul d'une operation et son gradient.\n",
    "\n",
    "        Les methods forward et backward fournissent un wrapper autour des methods citées ci-dessus.\n",
    "    \"\"\"    \n",
    "    def __init__(self, *inputs: Tensor):\n",
    "        raise ValueError(\"Functions are static classes which shouldn't be instanciated\")\n",
    "        ...   \n",
    "\n",
    "    @staticmethod   \n",
    "    def _forward(inputs: list[TensorLike]) -> TensorLike:\n",
    "        raise NotImplementedError('Function class needs to be inherited and implement _forward and _backward')\n",
    "\n",
    "    @staticmethod\n",
    "    def _backward(inputs: list[TensorLike], grad_output: TensorLike) -> list[TensorLike]:\n",
    "        raise NotImplementedError('Function class needs to be inherited and implement _forward and _backward')\n",
    "\n",
    "    @classmethod   \n",
    "    def forward(cls, *inputs: Tensor) -> Tensor:\n",
    "        return Tensor(\n",
    "            value=cls._forward([input_.value for input_ in inputs]),\n",
    "            gradfn=cls.backward,\n",
    "            inputs=inputs\n",
    "        ) \n",
    "        \n",
    "    @classmethod\n",
    "    def backward(cls, inputs: Sequence[Tensor], grad_output: Tensor) -> list[Tensor]:\n",
    "        grad = cls._backward([input_.value for input_ in inputs], grad_output.value)\n",
    "        tensor_grads = [] \n",
    "        for index, input_ in enumerate(inputs):\n",
    "            if not input_.grad:\n",
    "                input_.grad = Tensor(0.) \n",
    "            input_.grad.value += grad[index] #type: ignore\n",
    "            tensor_grads.append(input_.grad)\n",
    "        return tensor_grads\n",
    "    \n"
   ]
  },
  {
   "cell_type": "markdown",
   "metadata": {},
   "source": [
    "# Opérations d'Autodifférenciation\n",
    "\n",
    "Dans cette section, des opérations d'autodifférenciation couramment utilisées sont définies sous forme de classes. Chaque classe hérite de la classe abstraite `Function` pour définir le comportement de l'opération.\n",
    "\n",
    "Voici un aperçu des opérations et de leurs gradients :\n",
    "\n",
    "- `Add` : Opération d'addition.\n",
    "- `Mul` : Opération de multiplication.\n",
    "- `Pow` : Opération de puissance (exposant).\n",
    "- `Dot` : Opération de produit matriciel par vecteur.\n",
    "- `Sum` : Opération de sommation d'un vecteur.\n",
    "- `Log` : Opération de logarithme naturel.\n",
    "- `Exp` : Opération d'exponentielle.\n",
    "- `Neg` : Opération de négation.\n",
    "- `Sub` : Opération de soustraction.\n",
    "- `Div` : Opération de division.\n",
    "- `ReLU` : Fonction d'activation ReLU.\n",
    "\n",
    "Ces classes d'opérations servent de base pour construire des calculs plus complexes dans le système d'autodifférenciation. Elles sont utilisées pour définir comment les gradients sont calculés pour différentes opérations mathématiques."
   ]
  },
  {
   "cell_type": "code",
   "execution_count": 696,
   "metadata": {},
   "outputs": [],
   "source": [
    "from numpy import dot, exp, log, maximum, sum as np_sum, ones_like, outer, zeros_like\n",
    "\n",
    "class Add(Function):\n",
    "    \"\"\" Operation d'addition \"\"\"\n",
    "    @staticmethod\n",
    "    def _forward(inputs: list[TensorLike]) -> TensorLike:\n",
    "        \"\"\" (x,y) => x + y \"\"\"\n",
    "        return inputs[0] + inputs[1] # type: ignore\n",
    "\n",
    "    @staticmethod\n",
    "    def _backward(inputs: list[TensorLike], grad_output: TensorLike) -> list[TensorLike]:\n",
    "        \"\"\"d(x+y)/dx = 1 , d(x+y)/dy = 1 \"\"\"\n",
    "        return [grad_output, grad_output]\n",
    "    \n",
    "class Mul(Function):\n",
    "    \"\"\" Operation de multiplication \"\"\"\n",
    "\n",
    "    @staticmethod\n",
    "    def _forward(inputs: list[TensorLike]) -> TensorLike:\n",
    "        \"\"\" (x,y) => x*y \"\"\"\n",
    "        return inputs[0]*inputs[1]   # type: ignore\n",
    "\n",
    "    @staticmethod\n",
    "    def _backward(inputs: list[TensorLike], grad_output: TensorLike) -> list[TensorLike]:\n",
    "        \"\"\" d(x*y)/dx = y , d(x*y)/dy = x\"\"\"\n",
    "        return [inputs[1]*grad_output, inputs[0]*grad_output]  # type: ignore\n",
    "    \n",
    "class Pow(Function):\n",
    "    \"\"\" Operation de power (exposant) \"\"\"\n",
    "\n",
    "    @staticmethod\n",
    "    def _forward(inputs: list[TensorLike]) -> TensorLike:\n",
    "        \"\"\" x^y \"\"\"\n",
    "        return inputs[0]**inputs[1]  # type: ignore\n",
    "\n",
    "    @staticmethod\n",
    "    def _backward(inputs: list[TensorLike], grad_output) -> list[TensorLike]:\n",
    "        \"\"\" d(x^y)/dx = y*x^(y-1) , d(x^y)/dy = ln(x)*x^y\"\"\"\n",
    "        res = [\n",
    "            grad_output*inputs[1]*inputs[0]**(inputs[1] - 1),  # type: ignore\n",
    "            grad_output*log(maximum(inputs[0], 0))*inputs[0]**(inputs[1])  # type: ignore\n",
    "         ]     \n",
    "        return res    \n",
    "    \n",
    "class Dot(Function):\n",
    "    \"\"\" Operation de produit Matrice x Vecteur\"\"\"\n",
    "\n",
    "    @staticmethod\n",
    "    def _forward(inputs: list[TensorLike]) -> TensorLike:\n",
    "        \"\"\" (A, x) => Ax \"\"\"\n",
    "        return inputs[0] @ inputs[1] # type: ignore\n",
    "    \n",
    "    @staticmethod\n",
    "    def _backward(inputs: list[TensorLike], grad_output: TensorLike) -> list[TensorLike]:\n",
    "        \"\"\" d(Ax)/dA = x.T , d(Ax)/dx = A \"\"\"\n",
    "        return [    \n",
    "            outer(grad_output, inputs[1]),  # type: ignore\n",
    "            inputs[0].T @ grad_output # type: ignore\n",
    "        ]\n",
    "    \n",
    "class Sum(Function):\n",
    "    \"\"\" Operation de sommation d'un vecteur\"\"\"\n",
    "\n",
    "    @staticmethod\n",
    "    def _forward(inputs: list[TensorLike]) -> TensorLike:\n",
    "        \"\"\" (x1,x2,x3,x4) => x1+x2+x3+x4\"\"\"\n",
    "        return np_sum(inputs[0]) # type: ignore\n",
    "    \n",
    "    @staticmethod\n",
    "    def _backward(inputs: list[TensorLike], grad_output: TensorLike) -> list[TensorLike]:\n",
    "        \"\"\" d(sum(v))/dv = (1,1,1,1)\"\"\"\n",
    "        return [\n",
    "            ones_like(inputs[0]) * grad_output \n",
    "        ]\n",
    "    \n",
    "class Log(Function):\n",
    "    \"\"\" Operation de Log\"\"\"\n",
    "\n",
    "    @staticmethod\n",
    "    def _forward(inputs: list[TensorLike]) -> TensorLike:\n",
    "        \"\"\" (x) => ln(x)\"\"\"\n",
    "        return maximum(log(inputs[0]), -100) #type: ignore\n",
    "\n",
    "    @staticmethod\n",
    "    def _backward(inputs: list[TensorLike], grad_output: TensorLike) -> list[TensorLike]:\n",
    "        \"\"\" d(log(x))/dx = 1/x\"\"\"\n",
    "        return [\n",
    "            grad_output/inputs[0] #type: ignore\n",
    "        ]\n",
    "    \n",
    "class Exp(Function):\n",
    "\n",
    "    @staticmethod\n",
    "    def _forward(inputs: list[TensorLike]) -> TensorLike:\n",
    "        return exp(inputs[0]) #type: ignore\n",
    "\n",
    "    @staticmethod\n",
    "    def _backward(inputs: list[TensorLike], grad_output: TensorLike) -> list[TensorLike]:\n",
    "        return [\n",
    "            grad_output*exp(inputs[0]) #type: ignore\n",
    "        ]\n",
    "\n",
    "class Neg(Function):\n",
    "    \"\"\" negation \"\"\"\n",
    "\n",
    "    @staticmethod\n",
    "    def _forward(inputs: list[TensorLike]) -> TensorLike:\n",
    "        return - inputs[0] #type: ignore\n",
    "    \n",
    "    @staticmethod\n",
    "    def _backward(inputs: list[TensorLike], grad_output: TensorLike) -> list[TensorLike]:\n",
    "        return [\n",
    "            (-1)*ones_like(inputs[0])*grad_output #type: ignore\n",
    "        ]\n",
    "    \n",
    "class Sub(Function):\n",
    "    \"\"\" Soustraction \"\"\"\n",
    "\n",
    "    @staticmethod\n",
    "    def _forward(inputs: list[TensorLike]) -> TensorLike:\n",
    "        return inputs[0] - inputs[1] #type: ignore\n",
    "    \n",
    "    @staticmethod\n",
    "    def _backward(inputs: list[TensorLike], grad_output: TensorLike) -> list[TensorLike]:\n",
    "        return [\n",
    "            ones_like(inputs[0])*grad_output,  #type: ignore          \n",
    "            (-1)*ones_like(inputs[1])*grad_output, #type: ignore            \n",
    "        ]\n",
    "    \n",
    "class Div(Function):\n",
    "    \"\"\" Division \"\"\"\n",
    "\n",
    "    @staticmethod\n",
    "    def _forward(inputs: list[TensorLike]) -> TensorLike:\n",
    "        return inputs[0]/inputs[1] #type: ignore\n",
    "    \n",
    "    @staticmethod\n",
    "    def _backward(inputs: list[TensorLike], grad_output: TensorLike) -> list[TensorLike]:\n",
    "        return [\n",
    "            grad_output/inputs[1], #type: ignore\n",
    "            - grad_output*inputs[0]/(inputs[1]**2) #type: ignore\n",
    "        ]\n",
    "\n",
    "class ReLU(Function):\n",
    "    \"\"\" Fonction relu (x) => max(0, x)\n",
    "\n",
    "        On choisira relu'(0) = 0 (car relu non derivable en 0)\n",
    "    \"\"\"\n",
    "\n",
    "    @staticmethod\n",
    "    def _forward(inputs: list[TensorLike]) -> TensorLike:\n",
    "        \"\"\" (x) => max(x, 0)\"\"\"\n",
    "        return maximum(inputs[0], 0) #type: ignore\n",
    "    \n",
    "    @staticmethod\n",
    "    def _backward(inputs: list[TensorLike], grad_output: TensorLike) -> list[TensorLike]:\n",
    "        \"\"\" drelu(x)/dx = 0 si x <= 0 et 1 sinon\"\"\"\n",
    "        res = zeros_like(inputs[0])\n",
    "        res[inputs[0] > 0] = 1 #type: ignore\n",
    "        return [\n",
    "            res*grad_output            \n",
    "        ]"
   ]
  },
  {
   "cell_type": "markdown",
   "metadata": {},
   "source": [
    "# Surcharge des Opérateurs pour les Tenseurs\n",
    "\n",
    "Pour effectuer plus explicitement les opérations entre `Tensor`, on surcharge les différents opérateurs. \n",
    "Ces surcharges facilitent l'expression des opérations mathématiques sur les tenseurs de manière naturelle et intuitive."
   ]
  },
  {
   "cell_type": "code",
   "execution_count": 697,
   "metadata": {},
   "outputs": [],
   "source": [
    "Tensor.__mul__ = lambda self, other: Mul(self, tensor(other))\n",
    "Tensor.__rmul__ = lambda self, other: Mul(tensor(other), self)\n",
    "Tensor.__add__ = lambda self, other: Add(self, tensor(other))\n",
    "Tensor.__radd__ = lambda self, other: Add(tensor(other), self)\n",
    "Tensor.__neg__ = lambda self: Neg(self)\n",
    "Tensor.__truediv__ = lambda self, other: Div(self, tensor(other))\n",
    "Tensor.__rtruediv__ = lambda self, other: Div(tensor(other), self)\n",
    "Tensor.__sub__ = lambda self, other: Sub(self, tensor(other))\n",
    "Tensor.__rsub__ = lambda self, other: Sub(tensor(other), self)\n",
    "Tensor.__pow__ = lambda self, other: Pow(self, tensor(other))\n",
    "Tensor.__rpow__ = lambda self, other: Pow(tensor(other), self)\n",
    "Tensor.__matmul__ = lambda self, other: Dot(self, tensor(other))\n",
    "Tensor.__rmatmul__ = lambda self, other: Dot(tensor(other), self)\n"
   ]
  },
  {
   "cell_type": "markdown",
   "metadata": {},
   "source": [
    "# Fonctions Utilitaires\n",
    "\n",
    "Dans la suite, on utilisera notre framework pour entrainer un regression logistique sur iris.\n",
    "On définit alors les fonctions `binary_cross_entropy` (la loss que nous utiliserons). et `sigmoid` (pour transformer les sorties de la regression en logits).\n",
    "On définit chacune de ces fonctions avec nos `Tensor` pour pouvoir les dériver automatiquement.\n",
    "\n",
    "On implémente aussi une `accuracy` pour voir les scores que l'on obtient."
   ]
  },
  {
   "cell_type": "code",
   "execution_count": 698,
   "metadata": {},
   "outputs": [],
   "source": [
    "from numpy import mean\n",
    "\n",
    "def binary_cross_entropy(y_prob_preds: Tensor, y_true: Tensor) -> Tensor:\n",
    "    return (- 1/len(y_true))*Sum(y_true*Log(y_prob_preds) + (1 - y_true)*Log(1 - y_prob_preds)) # type: ignore\n",
    "\n",
    "def sigmoid(x: Tensor) -> Tensor:\n",
    "    return 1/(1 + Exp(-x)) # type: ignore\n",
    "\n",
    "def accuracy(y_true: NDArray, y_preds: NDArray): \n",
    "    return mean(y_true == y_preds)\n"
   ]
  },
  {
   "cell_type": "markdown",
   "metadata": {},
   "source": [
    "# Exemple d'un Réseau de Neurones MLP avec des Activations ReLU\n",
    "\n",
    "Dans cet exemple, nous créons un réseau de neurones à deux couches, notées A et B, avec des fonctions d'activation ReLU. La sortie de la couche B est ensuite passée à une fonction d'activation sigmoid, et les sorties sont sommées pour obtenir la valeur finale.\n",
    "\n",
    "- `A` : La matrice de poids de la couche A.\n",
    "- `B` : La matrice de poids de la couche B.\n",
    "- `x` : Le vecteur d'entrée.\n",
    "- `z` : La sortie du réseau de neurones.\n",
    "\n",
    "Le calcul de `z` se déroule comme suit :\n",
    "1. Le vecteur d'entrée `x` est propagé à travers la couche A en effectuant d'abord une multiplication matricielle avec A, puis en appliquant la fonction d'activation ReLU à chaque élément du résultat.\n",
    "2. Le résultat de la couche A est ensuite propagé à travers la couche B de la même manière, en effectuant une multiplication matricielle avec B et en appliquant à nouveau la fonction d'activation ReLU.\n",
    "3. Les sorties de la couche B sont ensuite passées à travers la fonction d'activation sigmoid pour obtenir des valeurs dans l'intervalle (0, 1).\n",
    "4. Enfin, toutes les sorties sont sommées pour obtenir la valeur finale `z`.\n",
    "\n",
    "Cet exemple illustre comment utiliser les opérations définies précédemment pour construire un réseau de neurones avec différentes couches et fonctions d'activation. La rétropropagation des gradients à travers ce réseau permettrait d'ajuster les poids pour l'apprentissage."
   ]
  },
  {
   "cell_type": "code",
   "execution_count": 699,
   "metadata": {},
   "outputs": [],
   "source": [
    "A = Tensor([[4., -2], [-1,2], [5,2]])\n",
    "B = Tensor([[3,2,1], [1,-1,1], [-1, 0., 2]])\n",
    "x = Tensor([2., -3])\n",
    "z: Tensor = Sum(sigmoid(ReLU(B @ ReLU(A @ x)))) #type: ignore"
   ]
  },
  {
   "cell_type": "code",
   "execution_count": 700,
   "metadata": {},
   "outputs": [
    {
     "name": "stdout",
     "output_type": "stream",
     "text": [
      "z:  tensor(value=2.4999999847700205)\n",
      "Gradient de A:  tensor(value=[[ 3.04599586e-08 -4.56899378e-08]\n",
      " [ 0.00000000e+00  0.00000000e+00]\n",
      " [ 3.04599586e-08 -4.56899378e-08]])\n",
      "Gradient de B:  tensor(value=[[1.47428643e-19 0.00000000e+00 4.21224694e-20]\n",
      " [2.13219710e-07 0.00000000e+00 6.09199171e-08]\n",
      " [0.00000000e+00 0.00000000e+00 0.00000000e+00]])\n"
     ]
    }
   ],
   "source": [
    "z.backward()\n",
    "print(\"z: \", z)\n",
    "print(\"Gradient de A: \", A.grad)\n",
    "print(\"Gradient de B: \", B.grad)"
   ]
  },
  {
   "cell_type": "markdown",
   "metadata": {},
   "source": [
    "# Régression Logistique\n",
    "\n",
    "Pour tester notre framework, nous allons maintenant implémenter une régression logistique. "
   ]
  },
  {
   "cell_type": "code",
   "execution_count": 701,
   "metadata": {},
   "outputs": [],
   "source": [
    "# application a regression logistique\n",
    "from numpy.random import normal\n",
    "\n",
    "class LogisticRegression: \n",
    "\n",
    "    def __init__(self, input_size: int):\n",
    "        self.weight = Tensor(normal(size=(1, input_size)))\n",
    "        self.bias = Tensor(0.)\n",
    "\n",
    "    def parameters(self):\n",
    "        return self.weight, self.bias\n",
    "\n",
    "    def __call__(self, x: Tensor):\n",
    "        return sigmoid(self.weight @ x + self.bias) #type: ignore \n",
    "    \n",
    "    def predict(self, X: NDArray, threshold = 0.5):\n",
    "        return array([self(Tensor(x)).value[0] > threshold for x in X]) #type: ignore"
   ]
  },
  {
   "cell_type": "markdown",
   "metadata": {},
   "source": [
    "# Optimisation\n",
    "\n",
    "On définit aussi une classe d'optimisateur par la descente de gradient avec pas constant. Comme notre exemple est très simple, on tel optimisateur suffira."
   ]
  },
  {
   "cell_type": "code",
   "execution_count": 702,
   "metadata": {},
   "outputs": [],
   "source": [
    "class GradientOptimizer: \n",
    "\n",
    "    def __init__(self, parameters: Sequence[Tensor], lr: float = 1e-4):\n",
    "        self.parameters = parameters\n",
    "        self.lr = lr\n",
    "\n",
    "    def step(self):\n",
    "        for param in self.parameters:\n",
    "            if param.grad is not None:\n",
    "                param.value -= self.lr * param.grad.value # type: ignore\n",
    "\n",
    "    def zero_grad(self):\n",
    "        # Réinitialise les gradients de tous les paramètres à zéro\n",
    "        for param in self.parameters:\n",
    "            if param.grad is not None:\n",
    "                param.zero_grad()\n"
   ]
  },
  {
   "cell_type": "markdown",
   "metadata": {},
   "source": [
    "# Chargement du Jeu de Données Iris en Classification Binaire\n",
    "\n",
    "Dans cette section, nous chargeons le célèbre jeu de données Iris à partir de la bibliothèque scikit-learn (sklearn). Cependant, nous transformons ce jeu de données en un problème de classification binaire en supprimant toutes les instances de la classe 2. Ensuite, nous effectuons une permutation aléatoire des données pour mélanger l'ordre des échantillons.\n",
    "\n",
    "Le résultat de cette transformation est stocké dans les tableaux NumPy `X` et `Y`. \n",
    "- `X` contient les caractéristiques des échantillons.\n",
    "- `Y` contient les étiquettes de classe correspondantes (0 ou 1) pour la classification binaire.\n"
   ]
  },
  {
   "cell_type": "code",
   "execution_count": 703,
   "metadata": {},
   "outputs": [
    {
     "data": {
      "text/plain": [
       "array([0, 1, 1, 1, 1, 1, 1, 0, 0, 1, 1, 0, 1, 1, 0, 0, 0, 1, 1, 0, 0, 1,\n",
       "       0, 1, 1, 0, 0, 1, 0, 0, 0, 0, 0, 0, 0, 1, 1, 1, 0, 1, 1, 1, 1, 1,\n",
       "       0, 1, 0, 0, 1, 0, 1, 1, 0, 1, 0, 1, 1, 0, 1, 1, 0, 0, 1, 1, 1, 0,\n",
       "       1, 0, 0, 1, 0, 0, 1, 1, 0, 0, 1, 1, 0, 0, 0, 1, 0, 1, 0, 1, 0, 1,\n",
       "       1, 0, 0, 1, 0, 1, 0, 0, 1, 0, 0, 0])"
      ]
     },
     "execution_count": 703,
     "metadata": {},
     "output_type": "execute_result"
    }
   ],
   "source": [
    "from sklearn import datasets\n",
    "import numpy as np\n",
    "\n",
    "def load_binary_iris():\n",
    "    iris = datasets.load_iris()\n",
    "    X = iris['data']\n",
    "    y = iris['target']\n",
    "    y = y[~(y == 2)]\n",
    "    shuffle = np.random.permutation(len(y))\n",
    "    return X[shuffle],y[shuffle] \n",
    "\n",
    "X, Y = load_binary_iris()\n",
    "Y"
   ]
  },
  {
   "cell_type": "markdown",
   "metadata": {},
   "source": [
    "# Création du Modèle de Régression Logistique et Entraînement\n",
    "\n",
    "On instancie un model de régression logistique ainsi qu'un optimisateur, auquel on attache les parametres de la régression."
   ]
  },
  {
   "cell_type": "code",
   "execution_count": 704,
   "metadata": {},
   "outputs": [
    {
     "name": "stdout",
     "output_type": "stream",
     "text": [
      "Avant entrainement: \n",
      "Accuracy:  0.5\n"
     ]
    }
   ],
   "source": [
    "log_reg = LogisticRegression(input_size=4)\n",
    "optim = GradientOptimizer(log_reg.parameters(), lr=1e-2)\n",
    "print(\"Avant entrainement: \")\n",
    "print(\"Accuracy: \", accuracy(log_reg.predict(X), Y))\n",
    "# environ 0.5 car le jeu de donnees est equilibre"
   ]
  },
  {
   "cell_type": "markdown",
   "metadata": {},
   "source": [
    "# Entraînement du Modèle de Régression Logistique\n",
    "\n",
    "Dans cette section, nous définissons une fonction `train` qui prend en entrée un modèle de régression logistique (`model`), les données d'entraînement (`X` et `Y`), et effectue l'entraînement du modèle.\n",
    "\n",
    "- `train(model: LogisticRegression, X ,Y)` : Cette fonction parcourt les données d'entraînement en utilisant une boucle `for`. Pour chaque échantillon `x` et son étiquette de classe correspondante `y`, elle effectue les étapes suivantes :\n",
    "  1. Transforme `x` et `y` en tenseurs (`Tensor(x)` et `Tensor(y)`).\n",
    "  2. Réinitialise les gradients de tous les paramètres du modèle à zéro en utilisant `optim.zero_grad()`.\n",
    "  3. Utilise le modèle pour faire des prédictions `y_preds` sur `x`.\n",
    "  4. Calcule la perte binaire (entropie croisée) entre les prédictions `y_preds` et l'étiquette de classe réelle `y`.\n",
    "  5. Effectue la rétropropagation des gradients pour calculer les gradients par rapport aux paramètres du modèle en utilisant `loss.backward()`.\n",
    "  6. Met à jour les paramètres du modèle en utilisant l'optimiseur avec `optim.step()`.\n",
    "\n",
    "Ce processus permet au modèle d'apprendre à partir des données d'entraînement et d'ajuster ses paramètres pour minimiser la perte, ce qui améliore sa capacité à effectuer des prédictions précises."
   ]
  },
  {
   "cell_type": "code",
   "execution_count": 705,
   "metadata": {},
   "outputs": [
    {
     "name": "stdout",
     "output_type": "stream",
     "text": [
      "loss:  tensor(value=0.0013672891511811948)\n",
      "loss:  tensor(value=0.914007456335607)\n",
      "loss:  tensor(value=0.09458624352179655)\n",
      "loss:  tensor(value=0.9043151819906351)\n",
      "loss:  tensor(value=0.5423726686021525)\n"
     ]
    }
   ],
   "source": [
    "def train(model: LogisticRegression, X ,Y):\n",
    "    for index, (x,y) in enumerate(zip(X,Y)):\n",
    "        x = Tensor(x)\n",
    "        y = Tensor(y)\n",
    "        optim.zero_grad()\n",
    "        y_preds = model(x)\n",
    "        loss = binary_cross_entropy(y_preds, y)\n",
    "        loss.backward()\n",
    "        optim.step()\n",
    "\n",
    "        if index % 20 == 0:\n",
    "            print('loss: ', loss)\n",
    "\n",
    "train(log_reg, X, Y)"
   ]
  },
  {
   "cell_type": "code",
   "execution_count": 706,
   "metadata": {},
   "outputs": [
    {
     "name": "stdout",
     "output_type": "stream",
     "text": [
      "Apres entrainement: \n",
      "Accuracy:  1.0\n"
     ]
    }
   ],
   "source": [
    "print(\"Apres entrainement: \")\n",
    "print(\"Accuracy: \", accuracy(log_reg.predict(X), Y))"
   ]
  },
  {
   "cell_type": "markdown",
   "metadata": {},
   "source": [
    "# Visualisation des Prédictions du Modèle\n",
    "\n",
    "On a une bonne `accuracy` avec le model. On va plot les points pour voir nos résultats\n"
   ]
  },
  {
   "cell_type": "code",
   "execution_count": 707,
   "metadata": {},
   "outputs": [
    {
     "data": {
      "image/png": "[encoded data removed]",
      "text/plain": [
       "<Figure size 1200x500 with 2 Axes>"
      ]
     },
     "metadata": {},
     "output_type": "display_data"
    }
   ],
   "source": [
    "import seaborn as sns\n",
    "import matplotlib.pyplot as plt\n",
    "\n",
    "def plot_model(model: LogisticRegression, X, Y):\n",
    "    fig, axes = plt.subplots(1, 2, figsize=(12, 5))\n",
    "    sns.scatterplot(x=X[:,0], y=X[:, 1], hue=Y, ax=axes[0])\n",
    "    sns.scatterplot(x=X[:,0], y=X[:, 1], hue=model.predict(X), ax=axes[1])\n",
    "    axes[0].set_title('Vrai labels')\n",
    "    axes[1].set_title(\"Label prédits\")\n",
    "\n",
    "plot_model(log_reg, X, Y)"
   ]
  },
  {
   "cell_type": "code",
   "execution_count": null,
   "metadata": {},
   "outputs": [],
   "source": []
  }
 ],
 "metadata": {
  "kernelspec": {
   "display_name": "Python 3",
   "language": "python",
   "name": "python3"
  },
  "language_info": {
   "codemirror_mode": {
    "name": "ipython",
    "version": 3
   },
   "file_extension": ".py",
   "mimetype": "text/x-python",
   "name": "python",
   "nbconvert_exporter": "python",
   "pygments_lexer": "ipython3",
   "version": "3.12.1"
  }
 },
 "nbformat": 4,
 "nbformat_minor": 2
}
